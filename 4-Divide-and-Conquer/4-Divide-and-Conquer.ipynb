{
 "metadata": {
  "language_info": {
   "codemirror_mode": {
    "name": "ipython",
    "version": 3
   },
   "file_extension": ".py",
   "mimetype": "text/x-python",
   "name": "python",
   "nbconvert_exporter": "python",
   "pygments_lexer": "ipython3",
   "version": "3.8.5-final"
  },
  "orig_nbformat": 2,
  "kernelspec": {
   "name": "python_defaultSpec_1596786731003",
   "display_name": "Python 3.8.5 64-bit"
  }
 },
 "nbformat": 4,
 "nbformat_minor": 2,
 "cells": [
  {
   "cell_type": "markdown",
   "metadata": {},
   "source": [
    "# 4 Divide and Conquer"
   ]
  },
  {
   "cell_type": "code",
   "execution_count": 1,
   "metadata": {},
   "outputs": [],
   "source": [
    "from typing import List"
   ]
  },
  {
   "cell_type": "markdown",
   "metadata": {},
   "source": [
    "## 4.1 The maximum-subarray problem"
   ]
  },
  {
   "cell_type": "code",
   "execution_count": 6,
   "metadata": {
    "tags": []
   },
   "outputs": [
    {
     "output_type": "stream",
     "name": "stdout",
     "text": "(3, 6, 6)\n"
    }
   ],
   "source": [
    "# Divide and Couquer (LC53)\n",
    "def maxCrossing(nums: List[int], lo: int, mid: int, hi: int): # max crossing in [lo, hi]\n",
    "    # left part [lo, mid]\n",
    "    lmaxsum = -2147483647\n",
    "    _sum = 0\n",
    "    for i in range(mid, lo - 1, -1):\n",
    "        _sum += nums[i]\n",
    "        if _sum > lmaxsum:\n",
    "            lmaxsum = _sum\n",
    "            l = i\n",
    "    # right part [mid + 1, hi]\n",
    "    rmaxsum = -2147483647\n",
    "    _sum = 0\n",
    "    for i in range(mid + 1, hi + 1):\n",
    "        _sum += nums[i]\n",
    "        if _sum > lmaxsum:\n",
    "            rmaxsum = _sum\n",
    "            r = i\n",
    "    return lmaxsum, rmaxsum, l + r\n",
    "\n",
    "def maxSubarray(nums: List[int], lo: int, hi: int):\n",
    "    if lo == hi:\n",
    "        return lo, hi, nums[lo]\n",
    "    else:\n",
    "        mid = lo + (hi - lo) // 2\n",
    "        llo, lhi, lsum = maxSubarray(nums, lo, mid)\n",
    "        rlo, rhi, rsum = maxSubarray(nums, mid + 1, hi)\n",
    "        clo, chi, csum = maxCrossing(nums, lo, mid, hi)\n",
    "        if lsum >= rsum and lsum >= csum:\n",
    "            return llo, lhi, lsum\n",
    "        elif rsum >= lsum and rsum >= csum:\n",
    "            return rlo, rhi, rsum\n",
    "        else:\n",
    "            return clo, chi, csum\n",
    "\n",
    "# test case\n",
    "nums = [-2,1,-3,4,-1,2,1,-5,4]\n",
    "print(maxSubArray(nums))"
   ]
  },
  {
   "cell_type": "code",
   "execution_count": 5,
   "metadata": {
    "tags": []
   },
   "outputs": [
    {
     "output_type": "stream",
     "name": "stdout",
     "text": "(3, 6, 6)\n"
    }
   ],
   "source": [
    "# 4.1-5\n",
    "# Linear time complexity\n",
    "def maxSubArray(nums: List[int]):\n",
    "    n = len(nums)\n",
    "    maxsum = -2147483647 # INT_MIN\n",
    "    _sum = 0\n",
    "    maxlo, maxhi = 0, 0\n",
    "    lo = 0\n",
    "    for hi in range(n):\n",
    "        if _sum > 0:\n",
    "            _sum += nums[hi]\n",
    "        else: # at first time sum (maxsum) = nums[0]\n",
    "            _sum = nums[hi]\n",
    "            lo = hi\n",
    "        if _sum > maxsum:\n",
    "            maxlo, maxhi = lo, hi\n",
    "            maxsum = _sum\n",
    "    return maxlo, maxhi, maxsum\n",
    "\n",
    "# test case\n",
    "nums = [-2,1,-3,4,-1,2,1,-5,4]\n",
    "print(maxSubArray(nums))"
   ]
  },
  {
   "cell_type": "markdown",
   "metadata": {},
   "source": [
    "- 4.1-1 largest element of `A`\n",
    "- 4.1-4 `if result < 0: return []`"
   ]
  },
  {
   "cell_type": "markdown",
   "metadata": {},
   "source": [
    "## 4.2 Strassen’s algorithm formatrix multiplication"
   ]
  },
  {
   "cell_type": "markdown",
   "metadata": {},
   "source": [
    "- 4.2-3 Extend n to power of 2 by adding zeros.\n",
    "- 4.2-4 $\\log_3 k < \\lg_7$, $k_max = 21$\n",
    "- 4.2-5 similar with 4.2-4\n",
    "- 4.2-6 \n",
    "    - $kn \\times kn$ matrix, need $k^2$ multiplications\n",
    "    - $n \\times n$, need $k$ multiplications and $k-1$ additions\n",
    "- 4.2-7 Let $A = (a + b)(c + d) = ac + ad + bc + bd$, $B = ac$, $C = bd$."
   ]
  },
  {
   "cell_type": "markdown",
   "metadata": {},
   "source": [
    "## 4.3 The substitution method for solving recurrences"
   ]
  }
 ]
}