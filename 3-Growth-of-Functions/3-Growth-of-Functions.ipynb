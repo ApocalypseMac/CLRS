{
 "metadata": {
  "language_info": {
   "codemirror_mode": {
    "name": "ipython",
    "version": 3
   },
   "file_extension": ".py",
   "mimetype": "text/x-python",
   "name": "python",
   "nbconvert_exporter": "python",
   "pygments_lexer": "ipython3",
   "version": 3
  },
  "orig_nbformat": 2
 },
 "nbformat": 4,
 "nbformat_minor": 2,
 "cells": [
  {
   "cell_type": "markdown",
   "metadata": {},
   "source": [
    "# 3 Growth of Functions"
   ]
  },
  {
   "cell_type": "markdown",
   "metadata": {},
   "source": [
    "## Concepts\n",
    "\n",
    "Asymptotic notation\n",
    "- $\\Theta$: asymptotically tight bound\n",
    "- $O$: asymptotic upper bound\n",
    "- $o$: $O$ plus any positive integer (NOT asymptotically tight, asymptotically smaller)\n",
    "- $\\Omega$: asymptotic lower bound\n",
    "- $\\omega$: $\\Omega$ plus any positive integer (NOT asymptotically tight, asymptotically larger)\n",
    "\n",
    "Properities\n",
    "- Transitivity: all of above\n",
    "- Reflexity: $\\Theta$ $O$ $\\Omega$\n",
    "- Symmetry: $\\Theta$\n",
    "- Transpose symmetry: $O$ versus $\\Omega$, $o$ versus $\\omega$\n",
    "\n",
    "Notations\n",
    "- Monotonicity\n",
    "- Floors and ceilings\n",
    "- Modular arithmetic\n",
    "- Polynomials\n",
    "- Exponentials\n",
    "- Logarithms\n",
    "- Factorials (Stirling’s approximation)\n",
    "- Functional iteration\n",
    "- The iterated logarithm function\n",
    "- Fibonacci numbers"
   ]
  },
  {
   "cell_type": "markdown",
   "metadata": {},
   "source": [
    "## Exercises\n",
    "- 3.1-1 def. $c1 = 1/2, c2 = 1$\n",
    "- 3.1-2 def.\n",
    "- 3.1-3 neither upper nor lower bound\n",
    "- 3.1-4 True, False.\n",
    "- 3.1-6 def.\n",
    "- 3.1-7 def.\n",
    "- 3.2-1 def.\n",
    "- 3.2-4 Note: If $\\lg (f(n)) = O(\\lg n)$, then $f$ is polynomially boundeed.\n",
    "- 3.2-5 The second one."
   ]
  },
  {
   "cell_type": "markdown",
   "metadata": {},
   "source": [
    "## Problems\n",
    "- 3.1 def.\n",
    "- 3.2 YYNNN, YYNNN, NNNNN, NNYYN, YNYNY, YNYNY.\n",
    "- 3.4 N ($n, n^2$), N ($2^n, n^2$), Y, N ($2^2n, 2^2$), Y, Y, N ($2^n$), Y"
   ]
  }
 ]
}