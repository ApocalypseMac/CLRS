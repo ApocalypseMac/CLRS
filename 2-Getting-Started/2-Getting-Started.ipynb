{
 "metadata": {
  "language_info": {
   "codemirror_mode": {
    "name": "ipython",
    "version": 3
   },
   "file_extension": ".py",
   "mimetype": "text/x-python",
   "name": "python",
   "nbconvert_exporter": "python",
   "pygments_lexer": "ipython3",
   "version": "3.8.1-final"
  },
  "orig_nbformat": 2,
  "kernelspec": {
   "name": "python_defaultSpec_1596371427983",
   "display_name": "Python 3.8.1 64-bit"
  }
 },
 "nbformat": 4,
 "nbformat_minor": 2,
 "cells": [
  {
   "cell_type": "markdown",
   "metadata": {},
   "source": [
    "# 2 Getting Started"
   ]
  },
  {
   "cell_type": "code",
   "execution_count": 2,
   "metadata": {},
   "outputs": [],
   "source": [
    "from typing import List"
   ]
  },
  {
   "cell_type": "code",
   "execution_count": 11,
   "metadata": {
    "tags": []
   },
   "outputs": [
    {
     "output_type": "stream",
     "name": "stdout",
     "text": "[7, 6, 5, 4, 3, 2, 1]\n"
    }
   ],
   "source": [
    "# 2.1-2\n",
    "# insertion sort\n",
    "def insertionSort(a: List[int]) -> None:\n",
    "    n = len(a)\n",
    "    for j in range(1, n):\n",
    "        key = a[j]\n",
    "        # Insert a[j] into sorted subarray\n",
    "        i = j - 1\n",
    "        # if sort in decreasing order, simply change > to <.\n",
    "        while i >= 0 and a[i] > key:\n",
    "            a[i + 1] = a[i]\n",
    "            i -= 1\n",
    "        a[i + 1] = key\n",
    "    return \n",
    "\n",
    "# test case\n",
    "a = [3,4,2,5,1,6,7]\n",
    "insertionSort(a)\n",
    "print(a)\n"
   ]
  },
  {
   "cell_type": "code",
   "execution_count": 7,
   "metadata": {
    "tags": []
   },
   "outputs": [
    {
     "output_type": "stream",
     "name": "stdout",
     "text": "[0, 0, 1, 1]\n"
    }
   ],
   "source": [
    "# 2.1-4\n",
    "# add two binary numbers represented by length-n lists\n",
    "# left is lower, right is higher\n",
    "def binAdd(a: List[int], b: List[int]) -> List[int]:\n",
    "    res = []\n",
    "    n = len(a)\n",
    "    carry = 0\n",
    "    for i in range(n):\n",
    "        temp = a[i] ^ b[i] ^ carry\n",
    "        carry = (a[i] & b[i]) | (a[i] and carry) | (b[i] and carry)\n",
    "        res.append(temp)\n",
    "    res.append(carry)\n",
    "    return res\n",
    "\n",
    "# test case\n",
    "a = [1, 1, 1]\n",
    "b = [1, 0, 1]\n",
    "print(binAdd(a, b))"
   ]
  },
  {
   "cell_type": "markdown",
   "metadata": {},
   "source": [
    "- 2.3-7 Sort ($\\Theta (n \\log n)$) plus bi-search ($n\\times \\Theta (\\log n) = \\Theta (n \\log n)$) or two-pointers ($\\Theta (n)$)"
   ]
  },
  {
   "cell_type": "markdown",
   "metadata": {},
   "source": [
    "## Problems\n",
    "- 2.1\n",
    "    - a $n/k \\times \\Theta (k^2) = \\Theta (nk)$\n",
    "    - b Equal to merge $n/k$ sorted lists (then refer to figure 2.4)\n",
    "    - c $\\Theta (\\log n)$\n",
    "    - d largest number on which insertion is faster than merge\n",
    "- 2.2\n",
    "    - a A' exactly contains all elements of A\n",
    "    - d $\\Theta (n^2)$\n",
    "- 2.3\n",
    "    - a $\\Theta (n)$\n",
    "    - b $\\Theta (n^2)$\n",
    "    - d by Mathematical Induction\n",
    "- 2.4\n",
    "    - a (1,5) (2,5) (3,4) (3,5) (4,5)\n",
    "    - b $\\{ n, \\cdots , 2, 1\\}$, which has $n(n - 1) / 2$ inversions.\n",
    "    - c exactly the inversion number\n",
    "    - d see below [similar](https://leetcode-cn.com/problems/shu-zu-zhong-de-ni-xu-dui-lcof/)"
   ]
  },
  {
   "cell_type": "code",
   "execution_count": 5,
   "metadata": {
    "tags": []
   },
   "outputs": [
    {
     "output_type": "stream",
     "name": "stdout",
     "text": "5\n5\n"
    }
   ],
   "source": [
    "# Problem 2-4 d\n",
    "# Leetcode LCOF-51\n",
    "def reversePairs(nums: List[int]) -> int:\n",
    "    # merge\n",
    "    n = len(nums)\n",
    "    if n <= 1:\n",
    "        return 0\n",
    "    i = 1\n",
    "    result = 0\n",
    "    def merge(l1, l2, r):\n",
    "        val = 0\n",
    "        temp = []\n",
    "        p1, p2 = l1, l2\n",
    "        while p1 < l2 and p2 < r:\n",
    "            if nums[p1] <= nums[p2]:\n",
    "                temp.append(nums[p1])\n",
    "                val += p2 - l2\n",
    "                p1 += 1\n",
    "            else:\n",
    "                temp.append(nums[p2])\n",
    "                p2 += 1\n",
    "        while p1 < l2:\n",
    "            temp.append(nums[p1])\n",
    "            p1 += 1\n",
    "            val += p2 - l2\n",
    "        while p2 < r:\n",
    "            temp.append(nums[p2])\n",
    "            p2 += 1\n",
    "        nums[l1: r] = temp[:]\n",
    "        #print(val)\n",
    "        return val\n",
    "        \n",
    "        \n",
    "    while i < n:\n",
    "        for j in range(0, n - i, i * 2):\n",
    "            result += merge(j, j + i, min(n, j + 2 * i))\n",
    "        i *= 2\n",
    "        #print(nums)\n",
    "    return result\n",
    "\n",
    "\n",
    "# test cases\n",
    "nums = [7, 5, 6, 4]\n",
    "print(reversePairs(nums))\n",
    "nums = [2, 3, 8, 6, 1]\n",
    "print(reversePairs(nums))\n"
   ]
  },
  {
   "cell_type": "code",
   "execution_count": null,
   "metadata": {},
   "outputs": [],
   "source": []
  }
 ]
}