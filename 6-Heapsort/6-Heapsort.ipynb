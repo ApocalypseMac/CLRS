{
 "metadata": {
  "language_info": {
   "codemirror_mode": {
    "name": "ipython",
    "version": 3
   },
   "file_extension": ".py",
   "mimetype": "text/x-python",
   "name": "python",
   "nbconvert_exporter": "python",
   "pygments_lexer": "ipython3",
   "version": "3.8.5-final"
  },
  "orig_nbformat": 2,
  "kernelspec": {
   "name": "python_defaultSpec_1598973359834",
   "display_name": "Python 3.8.5 64-bit"
  }
 },
 "nbformat": 4,
 "nbformat_minor": 2,
 "cells": [
  {
   "cell_type": "markdown",
   "metadata": {},
   "source": [
    "# 6 Heapsort"
   ]
  },
  {
   "cell_type": "code",
   "execution_count": 1,
   "metadata": {},
   "outputs": [],
   "source": [
    "from typing import List\n",
    "import heapq"
   ]
  },
  {
   "cell_type": "markdown",
   "metadata": {},
   "source": [
    "## 6.1 Heap"
   ]
  },
  {
   "cell_type": "code",
   "execution_count": 55,
   "metadata": {},
   "outputs": [],
   "source": [
    "# example: MAX-HEAP\n",
    "class Heap():\n",
    "    def __init__(self, nums: List[int]):\n",
    "        self.pq = [0] # priority queue\n",
    "        self.count = 0 # number of elements\n",
    "        self._isheap = False # is a heap\n",
    "        # way 1: add then heapify\n",
    "        '''\n",
    "        for num in nums:\n",
    "            self.pq.append(num)\n",
    "            self.count += 1\n",
    "        self.heapify()\n",
    "        '''\n",
    "        # way 2 keep push\n",
    "        for num in nums:\n",
    "            self.heappush(num)\n",
    "        self._isheap = True\n",
    "    \n",
    "    def __len__(self):\n",
    "        return self.count\n",
    "    \n",
    "    def __str__(self):\n",
    "        return str(self.pq[1: self.count+1])\n",
    "\n",
    "\n",
    "    def _parent(self, i) -> int: # index of parent\n",
    "        return i // 2\n",
    "\n",
    "    def _left(self, i) -> int: # index of left child\n",
    "        return 2 * i\n",
    "\n",
    "    def _right(self, i) -> int: # index of right child \n",
    "        return 2 * i + 1\n",
    "    \n",
    "    def _exchange(self, i, j): # exchange two values\n",
    "        self.pq[i], self.pq[j] = self.pq[j], self.pq[i]\n",
    "\n",
    "    def _smaller(self, i, j): # whether pq[i] <= pq[j], minheap\n",
    "        return self.pq[i] <= self.pq[j]\n",
    "\n",
    "    def _larger(self, i, j): # whether pq[i] >= pq[j], maxheap\n",
    "        return self.pq[i] >= self.pq[j]\n",
    "    \n",
    "    def _sink(self, i = 1): # MAX-HEAPIFY in CLRS\n",
    "        while self._left(i) <= self.count: # '<=' since self.pq[0] = 0\n",
    "            larger = self._left(i)\n",
    "            if self._right(i) <= self.count and self._larger(self._right(i), larger):\n",
    "                larger = self._right(i)\n",
    "            if self._larger(i, larger): # break if all children are smaller\n",
    "                break\n",
    "            self._exchange(i, larger)\n",
    "            i = larger\n",
    "    \n",
    "    def _swim(self, i): # swim up\n",
    "        while i > 1 and self._larger(i, self._parent(i)): # swim if i != 1 and i is larger than its parent\n",
    "            self._exchange(i, self._parent(i))\n",
    "            i = self._parent(i)\n",
    "    \n",
    "    def top(self) -> int: # return maximum(in this case) value\n",
    "        if self._isheap is False:\n",
    "            self.heapify()\n",
    "            self._isheap = True\n",
    "        return self.pq[1]\n",
    "    \n",
    "    def heapify(self): # construct a max-heap by an array\n",
    "        for i in range(self.count // 2, 0, -1):\n",
    "            self._sink(i)\n",
    "    \n",
    "    def heapsort(self):\n",
    "        n = self.count\n",
    "        for i in range(n, 1, -1):\n",
    "            self._exchange(1, i)\n",
    "            self.count -= 1\n",
    "            self._sink()\n",
    "            #print(self.pq[1:])\n",
    "        self.count = n\n",
    "        self._isheap = False\n",
    "\n",
    "    def heappush(self, num): # MAX-HEAP-INSERT in CLRS\n",
    "        if self._isheap is False:\n",
    "            self.heapify()\n",
    "            self._isheap = True\n",
    "        self.count += 1\n",
    "        self.pq.append(num)\n",
    "        self._swim(self.count)\n",
    "    \n",
    "    def heappop(self): # HEAP-EXTRACT-MAX in CLRS\n",
    "        if self.count < 1:\n",
    "            raise Exception('Heap underflow.')\n",
    "        if self._isheap is False:\n",
    "            self.heapify()\n",
    "            self._isheap = True\n",
    "        maxval = self.pq[1]\n",
    "        self.pq[1] = self.pq[self.count]\n",
    "        self.count -= 1\n",
    "        self.pq.pop()\n",
    "        self._sink()\n",
    "        return maxval\n",
    "\n",
    "    def heapremove(self, i): # HEAP-DELETE in CLRS:\n",
    "        if self.pq[i] > self.pq[self.count]:\n",
    "            self.pq[i] = self.pq[self.count]\n",
    "            self.count -= 1\n",
    "            self.pq.pop()\n",
    "            self._sink(i)\n",
    "        else:\n",
    "            self.pq[i] = self.pq[self.count]\n",
    "            self.count -= 1\n",
    "            self.pq.pop()\n",
    "            self._swim(i)\n",
    "        \n"
   ]
  },
  {
   "cell_type": "code",
   "execution_count": 59,
   "metadata": {
    "tags": []
   },
   "outputs": [
    {
     "output_type": "stream",
     "name": "stdout",
     "text": "[84, 22, 19, 17, 10, 5, 6, 3, 9] 9\n[3, 5, 6, 9, 10, 17, 19, 22, 84]\n84\n[84, 22, 19, 9, 10, 17, 6, 5, 3]\n[114, 84, 19, 9, 22, 17, 6, 5, 3, 10]\n[84, 22, 19, 9, 10, 17, 6, 5, 3]\n[84, 10, 19, 9, 3, 17, 6, 5]\n"
    }
   ],
   "source": [
    "A = Heap([5,3,17,10,84,19,6,22,9])\n",
    "print(A, len(A))\n",
    "A.heapsort()\n",
    "print(A)\n",
    "print(A.top())\n",
    "print(A)\n",
    "A.heappush(114)\n",
    "print(A)\n",
    "A.heappop()\n",
    "print(A)\n",
    "A.heapremove(2)\n",
    "print(A)"
   ]
  },
  {
   "cell_type": "code",
   "execution_count": 52,
   "metadata": {},
   "outputs": [
    {
     "output_type": "error",
     "ename": "Exception",
     "evalue": "Heap underflow.",
     "traceback": [
      "\u001b[1;31m---------------------------------------------------------------------------\u001b[0m",
      "\u001b[1;31mException\u001b[0m                                 Traceback (most recent call last)",
      "\u001b[1;32m<ipython-input-52-d9cd11131718>\u001b[0m in \u001b[0;36m<module>\u001b[1;34m\u001b[0m\n\u001b[0;32m      1\u001b[0m \u001b[0mB\u001b[0m \u001b[1;33m=\u001b[0m \u001b[0mHeap\u001b[0m\u001b[1;33m(\u001b[0m\u001b[1;33m[\u001b[0m\u001b[1;33m]\u001b[0m\u001b[1;33m)\u001b[0m\u001b[1;33m\u001b[0m\u001b[1;33m\u001b[0m\u001b[0m\n\u001b[1;32m----> 2\u001b[1;33m \u001b[0mB\u001b[0m\u001b[1;33m.\u001b[0m\u001b[0mheappop\u001b[0m\u001b[1;33m(\u001b[0m\u001b[1;33m)\u001b[0m\u001b[1;33m\u001b[0m\u001b[1;33m\u001b[0m\u001b[0m\n\u001b[0m\u001b[0;32m      3\u001b[0m \u001b[1;33m\u001b[0m\u001b[0m\n",
      "\u001b[1;32m<ipython-input-46-c19fa8de05a2>\u001b[0m in \u001b[0;36mheappop\u001b[1;34m(self)\u001b[0m\n\u001b[0;32m     90\u001b[0m     \u001b[1;32mdef\u001b[0m \u001b[0mheappop\u001b[0m\u001b[1;33m(\u001b[0m\u001b[0mself\u001b[0m\u001b[1;33m)\u001b[0m\u001b[1;33m:\u001b[0m \u001b[1;31m# HEAP-EXTRACT-MAX in CLRS\u001b[0m\u001b[1;33m\u001b[0m\u001b[1;33m\u001b[0m\u001b[0m\n\u001b[0;32m     91\u001b[0m         \u001b[1;32mif\u001b[0m \u001b[0mself\u001b[0m\u001b[1;33m.\u001b[0m\u001b[0mcount\u001b[0m \u001b[1;33m<\u001b[0m \u001b[1;36m1\u001b[0m\u001b[1;33m:\u001b[0m\u001b[1;33m\u001b[0m\u001b[1;33m\u001b[0m\u001b[0m\n\u001b[1;32m---> 92\u001b[1;33m             \u001b[1;32mraise\u001b[0m \u001b[0mException\u001b[0m\u001b[1;33m(\u001b[0m\u001b[1;34m'Heap underflow.'\u001b[0m\u001b[1;33m)\u001b[0m\u001b[1;33m\u001b[0m\u001b[1;33m\u001b[0m\u001b[0m\n\u001b[0m\u001b[0;32m     93\u001b[0m         \u001b[0mmaxval\u001b[0m \u001b[1;33m=\u001b[0m \u001b[0mself\u001b[0m\u001b[1;33m.\u001b[0m\u001b[0mpq\u001b[0m\u001b[1;33m[\u001b[0m\u001b[1;36m1\u001b[0m\u001b[1;33m]\u001b[0m\u001b[1;33m\u001b[0m\u001b[1;33m\u001b[0m\u001b[0m\n\u001b[0;32m     94\u001b[0m         \u001b[0mself\u001b[0m\u001b[1;33m.\u001b[0m\u001b[0mpq\u001b[0m\u001b[1;33m[\u001b[0m\u001b[1;36m1\u001b[0m\u001b[1;33m]\u001b[0m \u001b[1;33m=\u001b[0m \u001b[0mself\u001b[0m\u001b[1;33m.\u001b[0m\u001b[0mpq\u001b[0m\u001b[1;33m[\u001b[0m\u001b[0mself\u001b[0m\u001b[1;33m.\u001b[0m\u001b[0mcount\u001b[0m\u001b[1;33m]\u001b[0m\u001b[1;33m\u001b[0m\u001b[1;33m\u001b[0m\u001b[0m\n",
      "\u001b[1;31mException\u001b[0m: Heap underflow."
     ]
    }
   ],
   "source": [
    "B = Heap([])\n",
    "B.heappop()\n",
    "        "
   ]
  },
  {
   "cell_type": "markdown",
   "metadata": {},
   "source": [
    "- 6.1-1 Atleast $2^h$ and at most $2^{h+1}-1$\n",
    "- 6.1-4 One of the leaves, second part of the array.\n",
    "- 6.1-5 Yes. By definition\n",
    "- 6.1-6 No. Parent of node 7 has value 6 < 7. "
   ]
  },
  {
   "cell_type": "markdown",
   "metadata": {},
   "source": [
    "## 6.2 Maintaining the heap property"
   ]
  },
  {
   "cell_type": "markdown",
   "metadata": {},
   "source": [
    "- 6.2-2 Change `self._larger` to `self._smaller`\n",
    "- 6.2-3 No effect.\n",
    "- 6.2-4 No effect.\n",
    "- 6.2-5 See the code above.\n",
    "- 6.2-6 Assuming `MAX-HEAPIFY` a minheap"
   ]
  },
  {
   "cell_type": "markdown",
   "metadata": {},
   "source": [
    "## 6.3 Building a heap"
   ]
  },
  {
   "cell_type": "markdown",
   "metadata": {},
   "source": [
    "- 6.3-2 Otherwise will fail to construct a maxheap on its children.\n",
    "- 6.3-3 By induction."
   ]
  },
  {
   "cell_type": "markdown",
   "metadata": {},
   "source": [
    "## 6.4 The heapsort algorithm"
   ]
  },
  {
   "cell_type": "markdown",
   "metadata": {},
   "source": [
    "- 6.4-3 $\\Theta (n\\log n)$, considering recurring call of `MAX-HEAPIFY`\n",
    "- 6.4-4 First part of 6.4-3\n",
    "- 6.4-5 Considering a full binary tree, recurring sort the leaf nodes, then the master equation is $T(n) = T(n/2) + \\Omega (n\\log n)$."
   ]
  },
  {
   "cell_type": "markdown",
   "metadata": {},
   "source": [
    "## 6.5 Priority queue"
   ]
  },
  {
   "cell_type": "markdown",
   "metadata": {},
   "source": [
    "- 6.5-3 Change `self._larger()` to `self._smaller()`\n",
    "- 6.5-4 In order to pass the guard order.\n",
    "- 6.5-6 Move down parent smaller values then give the final node key.\n",
    "- 6.5-7 Queue: Adding elements in decreasing priority. Stack: increasing priority\n",
    "- 6.5-8 See `self.heapremove()` above\n",
    "- 6.5-9 Create a minheap with capacity k, insert one minimal element of each list, and track each element."
   ]
  },
  {
   "cell_type": "markdown",
   "metadata": {},
   "source": [
    "## Problems"
   ]
  },
  {
   "cell_type": "markdown",
   "metadata": {},
   "source": [
    "- 6.1\n",
    "    - a. Consider `A = [1,2,3]`\n",
    "    - b. Consider each insert step.\n",
    "- 6.2\n",
    "    - a. Similar with 2-ary heap (parent/children by multiply/divide)\n",
    "    - b. $\\Theta (\\log_d n)$\n",
    "    - c. $O(d \\log_d n)$\n",
    "    - d. $O(\\log_d n)$\n",
    "    - e. $O(\\log_d n)$\n",
    "- 6.3\n",
    "    - b. By definition.\n",
    "    - c. Children of `A[i][j]` are `A[i+1][j]` and `A[i][j+1]`. Pop and sink. $T(p) = T(p-1) + O(1)$.\n",
    "    - d. Similar with c. Insert and swim.\n",
    "    - e. Insert one by one and pop one by one.\n",
    "    - f. Use one pointer start from the lower-left or higher-right corner. (LC240)"
   ]
  }
 ]
}